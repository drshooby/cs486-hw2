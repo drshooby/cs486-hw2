{
 "cells": [
  {
   "cell_type": "markdown",
   "id": "a0488eff-6dba-4403-b46b-3f3eec81c6d0",
   "metadata": {},
   "source": [
    "### Review RF experiments- Useful hints for SciKit users for HW 2.docx file on Canvas"
   ]
  },
  {
   "cell_type": "code",
   "execution_count": null,
   "id": "b503ff71-a85c-4bcf-9e26-de588c0e7e0e",
   "metadata": {},
   "outputs": [],
   "source": [
    "pip install pandas scikit-learn numpy matplotlib"
   ]
  },
  {
   "cell_type": "markdown",
   "id": "7b03d4f5-ff06-4464-84f2-5fb614c69ce6",
   "metadata": {},
   "source": [
    "## Add Imports"
   ]
  },
  {
   "cell_type": "code",
   "execution_count": null,
   "id": "71953504-f5ae-433d-b2a0-65de5c349717",
   "metadata": {},
   "outputs": [],
   "source": [
    "from math import sqrt\n",
    "import numpy as np\n",
    "import pandas as pd\n",
    "from sklearn.ensemble import RandomForestClassifier\n",
    "from sklearn.model_selection import train_test_split\n",
    "from sklearn.model_selection import cross_val_score\n",
    "from sklearn.metrics import ConfusionMatrixDisplay, confusion_matrix, classification_report\n",
    "from collections import Counter\n",
    "import matplotlib.pyplot as plt"
   ]
  },
  {
   "cell_type": "markdown",
   "id": "585ca0f8-2565-49be-a32c-f86bb7403d12",
   "metadata": {},
   "source": [
    "## Create The Pipeline"
   ]
  },
  {
   "cell_type": "code",
   "execution_count": null,
   "id": "59d882eb-c732-4dfe-b2db-e490b181d116",
   "metadata": {},
   "outputs": [],
   "source": [
    "class RandomForestPipeline:\n",
    "    def __init__(self, file_path, n_estimators=500, max_features='sqrt', random_state=0):\n",
    "        self.file_path = file_path\n",
    "        self.n_estimators = n_estimators\n",
    "        self.max_features = max_features\n",
    "        self.random_state = random_state\n",
    "        self.clf = None\n",
    "        self.X_train = self.X_test = self.y_train = self.y_test = None\n",
    "\n",
    "    def load_data(self, test_size=0.2):\n",
    "        df = pd.read_csv(self.file_path)\n",
    "        X = df.drop('Label', axis=1)\n",
    "        y = df['Label']\n",
    "        self.X_train, self.X_test, self.y_train, self.y_test = train_test_split(\n",
    "            X, y, test_size=test_size, shuffle=True, random_state=self.random_state\n",
    "        )\n",
    "        return self.X_train, self.X_test, self.y_train, self.y_test\n",
    "\n",
    "    def train(self):\n",
    "        self.clf = RandomForestClassifier(\n",
    "            n_estimators=self.n_estimators,\n",
    "            max_features=self.max_features,\n",
    "            oob_score=True,\n",
    "            random_state=self.random_state\n",
    "        )\n",
    "\n",
    "        scores = cross_val_score(self.clf, self.X_train, self.y_train, cv=4)\n",
    "        print(\"Cross-validation scores:\", scores)\n",
    "        print(\"Mean CV score:\", np.mean(scores))\n",
    "\n",
    "        self.clf.fit(self.X_train, self.y_train)\n",
    "        print(\"Test set score:\", self.clf.score(self.X_test, self.y_test))\n",
    "        print(\"OOB Accuracy:\", self.clf.oob_score_)\n",
    "        print(\"OOB Error:\", 1 - self.clf.oob_score_)\n",
    "\n",
    "    def evaluate(self):\n",
    "        y_pred = self.clf.predict(self.X_test)\n",
    "        print(\"\\nClassification Report:\\n\", classification_report(self.y_test, y_pred))\n",
    "\n",
    "        cm = confusion_matrix(self.y_test, y_pred, labels=self.clf.classes_)\n",
    "        disp = ConfusionMatrixDisplay(confusion_matrix=cm, display_labels=self.clf.classes_)\n",
    "        disp.plot(cmap=plt.cm.Blues)\n",
    "        plt.title(\"Confusion Matrix\")\n",
    "        plt.show()"
   ]
  },
  {
   "cell_type": "markdown",
   "id": "da8e870d-da43-4656-8173-d91bda44f921",
   "metadata": {},
   "source": [
    "## Set Training DB File"
   ]
  },
  {
   "cell_type": "code",
   "execution_count": null,
   "id": "87a7f97a-a214-4b78-b8e6-9041e3421ebd",
   "metadata": {},
   "outputs": [],
   "source": [
    "DATA_FILE = \"data/original-training-db-e1-positive.csv\""
   ]
  },
  {
   "cell_type": "markdown",
   "id": "b3141fd5-a718-4f97-96b2-7df486112288",
   "metadata": {},
   "source": [
    "## Init Pipeline"
   ]
  },
  {
   "cell_type": "code",
   "execution_count": null,
   "id": "ed3d03f7-3725-4cb3-8846-06b587e1de36",
   "metadata": {},
   "outputs": [],
   "source": [
    "NTREE = 1000\n",
    "MTRY = \"sqrt\"\n",
    "\n",
    "pipeline = RandomForestPipeline(file_path=DATA_FILE, n_estimators=NTREE, max_features=MTRY)"
   ]
  },
  {
   "cell_type": "markdown",
   "id": "01e8c877-8587-4fdb-be7c-2fc23149fa9e",
   "metadata": {},
   "source": [
    "## Step 1"
   ]
  },
  {
   "cell_type": "code",
   "execution_count": null,
   "id": "855b0caa-77f7-42cf-8d91-8fc73cb7b590",
   "metadata": {},
   "outputs": [],
   "source": [
    "pipeline.load_data()"
   ]
  },
  {
   "cell_type": "markdown",
   "id": "0e565c1f-d20c-4a21-83d1-c4bdfdeaf1bd",
   "metadata": {},
   "source": [
    "## Step 2"
   ]
  },
  {
   "cell_type": "code",
   "execution_count": null,
   "id": "2c3bc84e-d611-4fde-9a3a-a778332e09fb",
   "metadata": {},
   "outputs": [],
   "source": [
    "pipeline.train()"
   ]
  },
  {
   "cell_type": "markdown",
   "id": "08834d80-c50f-45ff-801d-a57583ec10de",
   "metadata": {},
   "source": [
    "## Step 3"
   ]
  },
  {
   "cell_type": "code",
   "execution_count": null,
   "id": "af0cb45a-74fa-4569-855f-f2a9e98727a6",
   "metadata": {},
   "outputs": [],
   "source": [
    "pipeline.evaluate()"
   ]
  }
 ],
 "metadata": {
  "kernelspec": {
   "display_name": "Python 3 (ipykernel)",
   "language": "python",
   "name": "python3"
  },
  "language_info": {
   "codemirror_mode": {
    "name": "ipython",
    "version": 3
   },
   "file_extension": ".py",
   "mimetype": "text/x-python",
   "name": "python",
   "nbconvert_exporter": "python",
   "pygments_lexer": "ipython3",
   "version": "3.9.6"
  }
 },
 "nbformat": 4,
 "nbformat_minor": 5
}
