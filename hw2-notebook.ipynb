{
 "cells": [
  {
   "cell_type": "code",
   "execution_count": null,
   "id": "b503ff71-a85c-4bcf-9e26-de588c0e7e0e",
   "metadata": {},
   "outputs": [],
   "source": [
    "pip install pandas"
   ]
  },
  {
   "cell_type": "code",
   "execution_count": 4,
   "id": "87a7f97a-a214-4b78-b8e6-9041e3421ebd",
   "metadata": {},
   "outputs": [],
   "source": [
    "DATA_FILE = \"data/original-training-db-e1-positive.csv\""
   ]
  },
  {
   "cell_type": "code",
   "execution_count": 5,
   "id": "5c5941dc-6a04-4ff7-813f-a7f31c953322",
   "metadata": {},
   "outputs": [],
   "source": [
    "import pandas as pd\n",
    "df = pd.read_csv(DATA_FILE)"
   ]
  },
  {
   "cell_type": "code",
   "execution_count": null,
   "id": "dfa3b305-bf0e-47cb-adae-b439db56a148",
   "metadata": {
    "scrolled": true
   },
   "outputs": [],
   "source": [
    "print(df.columns.tolist()) # show column headers"
   ]
  },
  {
   "cell_type": "code",
   "execution_count": null,
   "id": "77315a08-e6de-4b01-8867-35fdf4e6f3a1",
   "metadata": {},
   "outputs": [],
   "source": []
  }
 ],
 "metadata": {
  "kernelspec": {
   "display_name": "Python 3 (ipykernel)",
   "language": "python",
   "name": "python3"
  },
  "language_info": {
   "codemirror_mode": {
    "name": "ipython",
    "version": 3
   },
   "file_extension": ".py",
   "mimetype": "text/x-python",
   "name": "python",
   "nbconvert_exporter": "python",
   "pygments_lexer": "ipython3",
   "version": "3.9.6"
  }
 },
 "nbformat": 4,
 "nbformat_minor": 5
}
