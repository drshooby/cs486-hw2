{
 "cells": [
  {
   "cell_type": "code",
   "execution_count": null,
   "id": "b503ff71-a85c-4bcf-9e26-de588c0e7e0e",
   "metadata": {},
   "outputs": [],
   "source": [
    "pip install pandas scikit-learn numpy matplotlib"
   ]
  },
  {
   "cell_type": "code",
   "execution_count": null,
   "id": "71953504-f5ae-433d-b2a0-65de5c349717",
   "metadata": {},
   "outputs": [],
   "source": [
    "## Add Imports\n",
    "from math import sqrt\n",
    "import numpy as np\n",
    "import pandas as pd\n",
    "from sklearn.ensemble import RandomForestClassifier\n",
    "from sklearn.model_selection import train_test_split\n",
    "from sklearn.model_selection import cross_val_score\n",
    "from sklearn.metrics import ConfusionMatrixDisplay, confusion_matrix\n",
    "from collections import Counter\n",
    "import matplotlib.pyplot as plt"
   ]
  },
  {
   "cell_type": "code",
   "execution_count": null,
   "id": "87a7f97a-a214-4b78-b8e6-9041e3421ebd",
   "metadata": {},
   "outputs": [],
   "source": [
    "## Load Training DB\n",
    "DATA_FILE = \"data/original-training-db-e1-positive.csv\"\n",
    "e1_df = pd.read_csv(DATA_FILE)"
   ]
  },
  {
   "cell_type": "code",
   "execution_count": null,
   "id": "047eb5ad-785a-4287-b2d8-0ee24721f8f1",
   "metadata": {},
   "outputs": [],
   "source": [
    "e1_df.head()"
   ]
  },
  {
   "cell_type": "code",
   "execution_count": null,
   "id": "65a1ccd0-6955-4498-a541-567ec1ffecf8",
   "metadata": {},
   "outputs": [],
   "source": [
    "print(e1_df.shape)\n",
    "print(Counter(e1_df['Label']))"
   ]
  },
  {
   "cell_type": "code",
   "execution_count": null,
   "id": "e0da25c8-f5f5-406c-b56d-1014a1772172",
   "metadata": {},
   "outputs": [],
   "source": [
    "## Training Setup\n",
    "X_data = e1_df.drop('Label', axis=1)\n",
    "y_data = e1_df['Label']\n",
    "X_train, X_test, y_train, y_test = train_test_split(X_data, y_data, test_size=0.2, shuffle=True)\n",
    "print(X_train.shape)\n",
    "print(X_test.shape)\n",
    "print(y_train.shape)\n",
    "print(y_test.shape)"
   ]
  },
  {
   "cell_type": "code",
   "execution_count": null,
   "id": "73d46762-d36e-46cc-946d-d0474e0bbea3",
   "metadata": {},
   "outputs": [],
   "source": [
    "print(Counter(y_train))\n",
    "print(Counter(y_test))"
   ]
  },
  {
   "cell_type": "code",
   "execution_count": null,
   "id": "c674092f-057a-4afc-b2a0-3c910d9e71e1",
   "metadata": {},
   "outputs": [],
   "source": [
    "## Set Two Main Hyperparameters of Random Forest\n",
    "NTREE = 500 # change if needed but keep between 200 and 2000\n",
    "MTRY = \"sqrt\" # this is how scikit does it"
   ]
  },
  {
   "cell_type": "code",
   "execution_count": null,
   "id": "3cedbda3-3750-489e-a056-4ef3ed8c2f36",
   "metadata": {},
   "outputs": [],
   "source": [
    "clf = RandomForestClassifier(n_estimators=NTREE, max_features=MTRY, oob_score=True)\n",
    "scores = cross_val_score(clf, X_train, y_train, cv=4)\n",
    "print(scores)\n",
    "print(np.mean(scores))"
   ]
  },
  {
   "cell_type": "code",
   "execution_count": null,
   "id": "26f39646-8f6d-4f13-92cd-d3ec4a83c8b9",
   "metadata": {},
   "outputs": [],
   "source": [
    "clf.fit(X_train, y_train)\n",
    "print(clf.score(X_test, y_test))\n",
    "print(clf.oob_score_)"
   ]
  },
  {
   "cell_type": "code",
   "execution_count": null,
   "id": "9eaa1afa-a33c-4332-b0be-2d3d98c81532",
   "metadata": {},
   "outputs": [],
   "source": [
    "y_pred = clf.predict(X_test)"
   ]
  },
  {
   "cell_type": "code",
   "execution_count": null,
   "id": "74019f69-755a-4ea0-8c0c-11a908aa22ea",
   "metadata": {},
   "outputs": [],
   "source": [
    "cm = confusion_matrix(y_test, y_pred, labels=clf.classes_)\n",
    "disp = ConfusionMatrixDisplay(confusion_matrix=cm, display_labels=clf.classes_)\n",
    "disp.plot(cmap=plt.cm.Blues)\n",
    "plt.title(\"Confusion Matrix\")\n",
    "plt.show()"
   ]
  }
 ],
 "metadata": {
  "kernelspec": {
   "display_name": "Python 3 (ipykernel)",
   "language": "python",
   "name": "python3"
  },
  "language_info": {
   "codemirror_mode": {
    "name": "ipython",
    "version": 3
   },
   "file_extension": ".py",
   "mimetype": "text/x-python",
   "name": "python",
   "nbconvert_exporter": "python",
   "pygments_lexer": "ipython3",
   "version": "3.9.6"
  }
 },
 "nbformat": 4,
 "nbformat_minor": 5
}
